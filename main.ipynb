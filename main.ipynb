{
 "cells": [
  {
   "cell_type": "markdown",
   "id": "2ed928e5",
   "metadata": {},
   "source": [
    "## Instructions\n",
    "\n",
    "* Fill the commented parameters in the *params.py* file, then the commented parameters in this file.\n",
    "\n",
    "* This notebook can run training and prediction independently, or together. For example, for doing predictions without training a model, using a heuristic, to get a benchmark.\n",
    "\n",
    "* Plots are shown in this notebook and also saved to disk in the *training_plots* and *plots* directories."
   ]
  },
  {
   "cell_type": "markdown",
   "id": "1df409d7-c1bd-49f1-ac9c-c5e005313e11",
   "metadata": {},
   "source": [
    "### Model training\n",
    "(can be skipped)"
   ]
  },
  {
   "cell_type": "code",
   "execution_count": null,
   "id": "10d79515-24cc-448d-870d-b9e33c2d43e8",
   "metadata": {},
   "outputs": [],
   "source": [
    "filename = 'Input example.xlsx' # Spreadsheet name with the circuit specification\n",
    "model_suffix = '-example' # Will be added to the name of files written to disk, to track different scenarios\n",
    "\n",
    "from params import training_params\n",
    "from train_ops_sim.training_loop import train_a2c\n",
    "rt = train_a2c(filename, *(model_suffix, *training_params))"
   ]
  },
  {
   "cell_type": "markdown",
   "id": "5fe77d80-ad11-4e91-a1f4-67e0f0c9c10b",
   "metadata": {},
   "source": [
    "### Simulation and plotting"
   ]
  },
  {
   "cell_type": "code",
   "execution_count": null,
   "id": "02602514-3b59-42e1-95a0-e2d0074171c3",
   "metadata": {},
   "outputs": [],
   "source": [
    "filename = 'Input example.xlsx' # Spreadsheet name with the circuit specification\n",
    "timespan_hours = 48 # Width of the train graphs (total simulation time is x100 this number)\n",
    "circuit_name = 'Circuit A' # Name of the main circuit (to highlight the train colors in the graph)\n",
    "model_state_filename = None # Filename with the saved model. If no model, input None. If using a model, should be 'a2c'+model_suffix+'.pth'\n",
    "plot_suffix = '-example' # Suffix for the plot filenames that will be written to disk, to keep track of different scenarios\n",
    "\n",
    "from params import pred_params\n",
    "from train_ops_sim.predict import sim_operation\n",
    "rp, ts = sim_operation(filename, timespan_hours, circuit_name, model_state_filename, plot_suffix, *pred_params)"
   ]
  }
 ],
 "metadata": {
  "kernelspec": {
   "display_name": "Python 3 (ipykernel)",
   "language": "python",
   "name": "python3"
  },
  "language_info": {
   "codemirror_mode": {
    "name": "ipython",
    "version": 3
   },
   "file_extension": ".py",
   "mimetype": "text/x-python",
   "name": "python",
   "nbconvert_exporter": "python",
   "pygments_lexer": "ipython3",
   "version": "3.12.5"
  }
 },
 "nbformat": 4,
 "nbformat_minor": 5
}
